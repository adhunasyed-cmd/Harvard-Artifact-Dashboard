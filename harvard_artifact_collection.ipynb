{
 "cells": [
  {
   "cell_type": "markdown",
   "id": "256290b6-1475-43be-9757-13e1ba8cf0eb",
   "metadata": {},
   "source": [
    "# 🖼️ Harvard’s Artifacts Collections: Extract transform load [ETL], SQL Analytics "
   ]
  },
  {
   "cell_type": "markdown",
   "id": "960cc748-072b-407a-b37e-1e0d8d3e57dc",
   "metadata": {},
   "source": [
    "### API Integration & Data Extraction\n"
   ]
  },
  {
   "cell_type": "code",
   "execution_count": null,
   "id": "b18d1f0d-1644-4a71-b2d7-6394a1e1c157",
   "metadata": {},
   "outputs": [],
   "source": [
    "import streamlit as st\n",
    "harvard_api = st.secrets.get(\"harvard\")[\"api_key\"]\n",
    "if not harvard_api:\n",
    "    st.error(\"API key for Harvard not found in secrets.\")\n",
    "    st.stop()\n",
    "url='https://api.harvardartmuseums.org/classification'\n",
    "import requests\n",
    "parameters={'apikey':harvard_api,\n",
    "           'size':100}\n",
    "response= requests.get(url, parameters)\n",
    "response"
   ]
  },
  {
   "cell_type": "code",
   "execution_count": null,
   "id": "b2188126-d46f-4eea-9d73-8c088f2623c4",
   "metadata": {
    "scrolled": true
   },
   "outputs": [],
   "source": [
    "data=response.json()\n",
    "data"
   ]
  },
  {
   "cell_type": "code",
   "execution_count": null,
   "id": "3c2eebfa-511d-4eda-8638-6cac78c0fcb6",
   "metadata": {},
   "outputs": [],
   "source": [
    "from collections import Counter\n",
    "classiresults= [record['name']\n",
    "                for record in data['records']\n",
    "                if record.get('objectcount',0) >= 2500]\n",
    "print('name with object count >= 2500:')\n",
    "for name in classiresults:\n",
    "    print(name)"
   ]
  },
  {
   "cell_type": "code",
   "execution_count": null,
   "id": "d36ab8ec-5ec2-42d4-835b-d881a20befba",
   "metadata": {},
   "outputs": [],
   "source": [
    "url = 'https://api.harvardartmuseums.org/object'\n",
    "all_records = []   \n",
    "classifications = [\"Paintings\", \"Sculpture\", \"Drawings\", \"Fragments\", \"Photographs\"]\n",
    "for classi in classifications:\n",
    "    print(f\"\\nFetching classification: {classi}\")\n",
    "    for page in range(1, 26):\n",
    "        parameters = {\n",
    "            'apikey': harvard_api,\n",
    "            'size': 100,\n",
    "            'page': page,\n",
    "            'classification': classi\n",
    "        }\n",
    "        response = requests.get(url, parameters)\n",
    "        data = response.json()\n",
    "        all_records.extend(data['records'])\n",
    "    print(f\"Total collected so far: {len(all_records)}\")"
   ]
  },
  {
   "cell_type": "code",
   "execution_count": null,
   "id": "9239ff48-4091-4ec3-90af-89e53d61dcec",
   "metadata": {
    "scrolled": true
   },
   "outputs": [],
   "source": [
    "data['records']"
   ]
  },
  {
   "cell_type": "code",
   "execution_count": null,
   "id": "935b4b0a-ac2d-49d1-bb21-1cd6bc7475b6",
   "metadata": {},
   "outputs": [],
   "source": [
    "print(type(data['records']))"
   ]
  },
  {
   "cell_type": "code",
   "execution_count": null,
   "id": "52e2c556-7495-4baf-93e0-4882f89cda17",
   "metadata": {
    "scrolled": true
   },
   "outputs": [],
   "source": [
    "data['records'][0]"
   ]
  },
  {
   "cell_type": "code",
   "execution_count": null,
   "id": "33cc4525-484f-4f9d-a780-b678317d8b03",
   "metadata": {},
   "outputs": [],
   "source": [
    "artifact_metadata = []\n",
    "artifact_media = []\n",
    "artifact_colors = []\n",
    "for i in all_records:\n",
    "    artifact_metadata.append(dict(\n",
    "        id = i['id'],\n",
    "        title = i['title'],\n",
    "        culture = i['culture'],\n",
    "        period = i['period'],\n",
    "        century = i['century'],\n",
    "        medium = i['medium'],\n",
    "        dimensions = i['dimensions'],\n",
    "        description = i['description'],\n",
    "        department = i['department'],\n",
    "        classification = i['classification'],\n",
    "        accessionyear = i['accessionyear'],\n",
    "        accessionmethod = i['accessionmethod']))\n",
    "    artifact_media.append(dict(\n",
    "        objectid = i['objectid'],\n",
    "        imagecount = i['imagecount'],\n",
    "        mediacount = i['mediacount'],\n",
    "        colorcount = i['colorcount'],\n",
    "        rank_value = i['rank'],\n",
    "        datebegin = i['datebegin'],\n",
    "        dateend = i['dateend']))\n",
    "    color_details = i.get('colors')\n",
    "    if color_details:\n",
    "        for j in color_details:\n",
    "            artifact_colors.append(dict(\n",
    "                objectid = i['objectid'],\n",
    "                color = j['color'],\n",
    "                spectrum = j['spectrum'],\n",
    "                hue = j['hue'],\n",
    "                percent = j['percent'],\n",
    "                css3 = j['css3']))\n"
   ]
  },
  {
   "cell_type": "code",
   "execution_count": null,
   "id": "a965c5c3-f99d-4235-a56c-43984c898580",
   "metadata": {},
   "outputs": [],
   "source": [
    "len(artifact_metadata)"
   ]
  },
  {
   "cell_type": "code",
   "execution_count": null,
   "id": "c90d6965-0e49-49de-9c53-7370b30c4335",
   "metadata": {},
   "outputs": [],
   "source": [
    "len(artifact_media)"
   ]
  },
  {
   "cell_type": "code",
   "execution_count": null,
   "id": "76f3489c-ba9e-4954-ab87-36cbefdce0a9",
   "metadata": {},
   "outputs": [],
   "source": [
    "len(artifact_colors)"
   ]
  },
  {
   "cell_type": "code",
   "execution_count": null,
   "id": "3c19724f-5f69-4562-9b82-25eff9682041",
   "metadata": {
    "scrolled": true
   },
   "outputs": [],
   "source": [
    "artifact_metadata"
   ]
  },
  {
   "cell_type": "code",
   "execution_count": null,
   "id": "8a1e4ef0-ac2b-4b24-aa65-74be8d6cb90b",
   "metadata": {
    "scrolled": true
   },
   "outputs": [],
   "source": [
    "artifact_media"
   ]
  },
  {
   "cell_type": "code",
   "execution_count": null,
   "id": "a0643099-7c98-4229-ba16-74b3a8a77eda",
   "metadata": {
    "scrolled": true
   },
   "outputs": [],
   "source": [
    "artifact_colors"
   ]
  },
  {
   "cell_type": "code",
   "execution_count": null,
   "id": "dbdff927-1ab7-4e0f-98c4-b88affbbf28e",
   "metadata": {},
   "outputs": [],
   "source": [
    "import mysql.connector"
   ]
  },
  {
   "cell_type": "code",
   "execution_count": null,
   "id": "c3f91ef8-36d9-4520-bcf4-ab40248c6536",
   "metadata": {},
   "outputs": [],
   "source": [
    "connection = mysql.connector.connect(\n",
    "    host=st.secrets[\"mysql\"][\"host\"],\n",
    "    user=st.secrets[\"mysql\"][\"user\"],\n",
    "    password=st.secrets[\"mysql\"][\"password\"],\n",
    "    database=st.secrets[\"mysql\"][\"database\"]\n",
    ")\n",
    "cursor = connection.cursor()\n",
    "print(\"MySQL server established\")"
   ]
  },
  {
   "cell_type": "code",
   "execution_count": null,
   "id": "b8436333-ff20-4ba2-8698-880fdd908dbb",
   "metadata": {},
   "outputs": [],
   "source": [
    "cursor.execute('CREATE DATABASE IF NOT EXISTS harvard_artifacts;')\n",
    "cursor.execute(\"USE harvard_artifacts;\")\n",
    "print(\"Database ready: harvard_artifacts\")"
   ]
  },
  {
   "cell_type": "code",
   "execution_count": null,
   "id": "cdbdef3b-35ad-4f06-b84b-c5b6f4bc7898",
   "metadata": {},
   "outputs": [],
   "source": [
    "cursor.execute(\"\"\"\n",
    "CREATE TABLE IF NOT EXISTS artifact_metadata (\n",
    "  id INT PRIMARY KEY,\n",
    "  title TEXT,\n",
    "  culture TEXT,\n",
    "  period TEXT,\n",
    "  century TEXT,\n",
    "  medium TEXT,\n",
    "  dimensions TEXT,\n",
    "  description TEXT,\n",
    "  department TEXT,\n",
    "  classification TEXT,\n",
    "  accessionyear INT,\n",
    "  accessionmethod TEXT\n",
    ");\n",
    "\"\"\")\n",
    "\n",
    "cursor.execute(\"\"\"\n",
    "CREATE TABLE IF NOT EXISTS artifact_media (\n",
    "  objectid INT PRIMARY KEY,\n",
    "  imagecount INT,\n",
    "  mediacount INT,\n",
    "  colorcount INT,\n",
    "  rank_value INT,\n",
    "  datebegin INT,\n",
    "  dateend INT,\n",
    "  CONSTRAINT fk1_id FOREIGN KEY (objectid) REFERENCES artifact_metadata(id)\n",
    ");\n",
    "\"\"\")\n",
    "\n",
    "cursor.execute(\"\"\"\n",
    "CREATE TABLE IF NOT EXISTS artifact_colors (\n",
    "  objectid INT,\n",
    "  color TEXT,\n",
    "  spectrum TEXT,\n",
    "  hue TEXT,\n",
    "  percent REAL,\n",
    "  css3 TEXT,\n",
    "  CONSTRAINT fk2_id FOREIGN KEY (objectid) REFERENCES artifact_metadata(id)\n",
    ");\n",
    "\"\"\")\n",
    "connection.commit()\n",
    "print(\"Tables created successfully\")"
   ]
  },
  {
   "cell_type": "code",
   "execution_count": null,
   "id": "049a6030-1326-4fb3-ac76-ada47825c129",
   "metadata": {},
   "outputs": [],
   "source": [
    "cursor.execute(\"DELETE FROM artifact_colors;\")\n",
    "cursor.execute(\"DELETE FROM artifact_media;\")\n",
    "cursor.execute(\"DELETE FROM artifact_metadata;\")\n",
    "connection.commit()\n",
    "print(\"Tables emptied Ready for fresh insert.\")"
   ]
  },
  {
   "cell_type": "code",
   "execution_count": null,
   "id": "77f8af4e-89aa-4849-b6a1-c4a66fe4329d",
   "metadata": {
    "scrolled": true
   },
   "outputs": [],
   "source": [
    "insert_metadata = \"\"\" \n",
    "INSERT INTO artifact_metadata ( id, title, culture, period, century, medium, dimensions, description, \n",
    "department, classification, accessionyear, accessionmethod ) \n",
    "VALUES (%s, %s, %s, %s, %s, %s, %s, %s, %s, %s, %s, %s) \n",
    "\"\"\"\n",
    "cursor.executemany(insert_metadata, [(\n",
    "    r.get('id'), \n",
    "    r.get('title'), \n",
    "    r.get('culture'), \n",
    "    r.get('period'), \n",
    "    r.get('century'),\n",
    "    r.get('medium'), \n",
    "    r.get('dimensions'), \n",
    "    r.get('description'), \n",
    "    r.get('department'),\n",
    "    r.get('classification'), \n",
    "    r.get('accessionyear'), \n",
    "    r.get('accessionmethod')\n",
    ") for r in artifact_metadata])\n",
    "connection.commit()\n",
    "print(\"artifact_metadata inserted\")"
   ]
  },
  {
   "cell_type": "code",
   "execution_count": null,
   "id": "ce3bb1d6-eb8c-40ce-a937-d978460d4865",
   "metadata": {},
   "outputs": [],
   "source": [
    "insert_media = \"\"\"\n",
    "INSERT INTO artifact_media (\n",
    "    objectid, imagecount, mediacount, colorcount, rank_value, datebegin, dateend\n",
    ") VALUES (%s, %s, %s, %s, %s, %s, %s)\n",
    "\"\"\"\n",
    "cursor.executemany(insert_media, [(\n",
    "            r.get('objectid'),\n",
    "            r.get('imagecount'),\n",
    "            r.get('mediacount'),\n",
    "            r.get('colorcount'),\n",
    "            r.get('rank_value'),  \n",
    "            r.get('datebegin'),\n",
    "            r.get('dateend')\n",
    "        )for r in artifact_media])\n",
    "connection.commit()\n",
    "print(\"artifact_media inserted\")"
   ]
  },
  {
   "cell_type": "code",
   "execution_count": null,
   "id": "c9604626-0a57-481f-abdc-97067651ed7b",
   "metadata": {},
   "outputs": [],
   "source": [
    "insert_colors = \"\"\"\n",
    "INSERT INTO artifact_colors (\n",
    "    objectid, color, spectrum, hue, percent, css3\n",
    ") VALUES (%s, %s, %s, %s, %s, %s)\n",
    "\"\"\"\n",
    "cursor.executemany(insert_colors,[(\n",
    "            r.get('objectid'),\n",
    "            r.get('color'),\n",
    "            r.get('spectrum'),\n",
    "            r.get('hue'),\n",
    "            r.get('percent'),\n",
    "            r.get('css3')\n",
    "        )for r in artifact_colors])\n",
    "connection.commit()\n",
    "print(\"artifact_colors inserted\")"
   ]
  },
  {
   "cell_type": "markdown",
   "id": "161adc38-8eae-493f-b308-8c0ed240dc90",
   "metadata": {},
   "source": [
    "# SQL QUERIES"
   ]
  },
  {
   "cell_type": "markdown",
   "id": "aa78cc19-b793-4444-b22c-e16bba396ff3",
   "metadata": {},
   "source": [
    "### artifact_metadata Table\n"
   ]
  },
  {
   "cell_type": "markdown",
   "id": "67cfa41f-2c04-41bf-a29a-471f20cc6942",
   "metadata": {},
   "source": [
    "#### 1. List all artifacts from the 11th century belonging to Byzantine culture."
   ]
  },
  {
   "cell_type": "code",
   "execution_count": null,
   "id": "f103cffc-e961-4eb7-b3a2-5e927f68dcbf",
   "metadata": {},
   "outputs": [],
   "source": [
    "cursor.execute(\"\"\" \n",
    "SELECT id, title, century, culture \n",
    "FROM artifact_metadata \n",
    "WHERE century LIKE '%11th century%' AND culture LIKE '%Byzantine%'; \"\"\") \n",
    "results = cursor.fetchall() \n",
    "for row in results: \n",
    "    print(row)"
   ]
  },
  {
   "cell_type": "markdown",
   "id": "82c843ab-283d-491a-9c16-90e907e0112b",
   "metadata": {},
   "source": [
    "#### 2. What are the unique cultures represented in the artifacts?"
   ]
  },
  {
   "cell_type": "code",
   "execution_count": null,
   "id": "92c33d0b-77c8-4487-8acb-704feb97e9f6",
   "metadata": {},
   "outputs": [],
   "source": [
    "cursor.execute(\"\"\"\n",
    "    SELECT DISTINCT culture\n",
    "    FROM artifact_metadata\n",
    "    WHERE culture IS NOT NULL\n",
    "    ORDER BY culture;\n",
    "\"\"\")\n",
    "results = cursor.fetchall()\n",
    "print(\"Unique cultures in artifacts:\")\n",
    "for row in results:\n",
    "    print(row[0])"
   ]
  },
  {
   "cell_type": "markdown",
   "id": "353faf73-bccd-425e-9c02-281d724aecd0",
   "metadata": {},
   "source": [
    "#### 3. List all artifacts from the Archaic Period"
   ]
  },
  {
   "cell_type": "code",
   "execution_count": null,
   "id": "42944380-0da7-4483-8b03-73b424eb9da5",
   "metadata": {},
   "outputs": [],
   "source": [
    "cursor.execute(\"\"\"\n",
    "SELECT id, title, period\n",
    "FROM artifact_metadata\n",
    "WHERE period = 'Archaic Period';\n",
    "\"\"\")\n",
    "results = cursor.fetchall()\n",
    "print(\"Artifacts from Archaic Period:\")\n",
    "for row in results:\n",
    "    print(row)\n"
   ]
  },
  {
   "cell_type": "markdown",
   "id": "3851b988-bf43-4f24-b088-4a95c8a75dd7",
   "metadata": {},
   "source": [
    "#### 4. List artifact titles ordered by accession year in descending order"
   ]
  },
  {
   "cell_type": "code",
   "execution_count": null,
   "id": "c8c1f7ef-f3fb-47dc-97b6-8b3f7799bee0",
   "metadata": {
    "scrolled": true
   },
   "outputs": [],
   "source": [
    "cursor.execute(\"\"\"\n",
    "    SELECT title, accessionyear\n",
    "    FROM artifact_metadata\n",
    "    WHERE accessionyear IS NOT NULL\n",
    "    ORDER BY accessionyear DESC;\n",
    "\"\"\")\n",
    "results = cursor.fetchall()\n",
    "print(\"Artifact titles ordered by accession year (newest first):\")\n",
    "for row in results:\n",
    "    print(row)\n"
   ]
  },
  {
   "cell_type": "markdown",
   "id": "67677ea3-5089-450f-9fbd-622066f0f77c",
   "metadata": {},
   "source": [
    "#### 5. How many artifacts are there per department"
   ]
  },
  {
   "cell_type": "code",
   "execution_count": null,
   "id": "818578d0-7843-4744-bf8c-d5dafc6d6db8",
   "metadata": {},
   "outputs": [],
   "source": [
    "cursor.execute(\"\"\"\n",
    "SELECT department, COUNT(*) AS artifact_count\n",
    "FROM artifact_metadata\n",
    "GROUP BY department\n",
    "ORDER BY artifact_count DESC;\n",
    "\"\"\")\n",
    "results = cursor.fetchall()\n",
    "print(\"Number of artifacts per department:\")\n",
    "for department, count in results:\n",
    "    print(f\"{department}: {count}\")"
   ]
  },
  {
   "cell_type": "markdown",
   "id": "bc6dc5f4-01ca-42e8-8128-2edc68f0208a",
   "metadata": {},
   "source": [
    "### artifact_media Table"
   ]
  },
  {
   "cell_type": "markdown",
   "id": "b958873a-6e97-4dff-8795-c4feee2c4abf",
   "metadata": {},
   "source": [
    "#### 6. Which artifacts have more than 1 image"
   ]
  },
  {
   "cell_type": "code",
   "execution_count": null,
   "id": "09c12a1d-9dbd-427c-865e-071fd2f012d2",
   "metadata": {},
   "outputs": [],
   "source": [
    "cursor.execute(\"\"\"\n",
    "SELECT m.title, md.imagecount\n",
    "FROM artifact_metadata m\n",
    "JOIN artifact_media md ON m.id = md.objectid\n",
    "WHERE md.imagecount > 1; \"\"\")\n",
    "results = cursor.fetchall()\n",
    "print(\"Artifacts with more than 1 image:\")\n",
    "for title, imagecount in results:\n",
    "    print(f\"Title: {title}, Images: {imagecount}\")"
   ]
  },
  {
   "cell_type": "markdown",
   "id": "0583ba97-0806-435e-ab61-e1d72ba541a8",
   "metadata": {},
   "source": [
    "#### 7. What is the average rank of all artifacts"
   ]
  },
  {
   "cell_type": "code",
   "execution_count": null,
   "id": "25db31e6-8f14-4806-a885-97b559560508",
   "metadata": {},
   "outputs": [],
   "source": [
    "cursor.execute(\"\"\"\n",
    "SELECT AVG(rank_value) AS average_rank\n",
    "FROM artifact_media\n",
    "WHERE rank_value IS NOT NULL;\n",
    "\"\"\")\n",
    "result = cursor.fetchone()\n",
    "print(f\"Average rank of all artifacts: {result[0]}\")"
   ]
  },
  {
   "cell_type": "markdown",
   "id": "fcf98994-f535-48f0-a44d-8e81c9eec4f4",
   "metadata": {},
   "source": [
    "#### 8. Which artifacts have a higher colorcount than mediacount"
   ]
  },
  {
   "cell_type": "code",
   "execution_count": null,
   "id": "1057d749-c28f-4323-a9dd-2a9d53f078d6",
   "metadata": {},
   "outputs": [],
   "source": [
    "cursor.execute(\"\"\"\n",
    "SELECT m.title, am.colorcount, am.mediacount\n",
    "FROM artifact_media am\n",
    "JOIN artifact_metadata m ON am.objectid = m.id\n",
    "WHERE am.colorcount > am.mediacount;\n",
    "\"\"\")\n",
    "results = cursor.fetchall()\n",
    "print(\"Artifacts where color count is higher than media count:\")\n",
    "for title, colorcount, mediacount in results:\n",
    "    print(f\"Title: {title}, Color Count: {colorcount}, Media Count: {mediacount}\")\n"
   ]
  },
  {
   "cell_type": "markdown",
   "id": "ccad4e82-d792-4246-b42f-0ac7426fe749",
   "metadata": {},
   "source": [
    "#### 9. List all artifacts created between 1500 and 1600"
   ]
  },
  {
   "cell_type": "code",
   "execution_count": null,
   "id": "0c7207ce-0191-4f37-aa4c-88c2fb55cdbb",
   "metadata": {},
   "outputs": [],
   "source": [
    "cursor.execute(\"\"\"\n",
    "    SELECT title, datebegin, dateend\n",
    "    FROM artifact_metadata m\n",
    "    JOIN artifact_media me ON m.id = me.objectid\n",
    "    WHERE (me.datebegin BETWEEN 1500 AND 1600)\n",
    "       OR (me.dateend BETWEEN 1500 AND 1600);\n",
    "\"\"\")\n",
    "results = cursor.fetchall()\n",
    "print(\"Artifacts created between 1500 and 1600:\")\n",
    "for row in results:\n",
    "    print(row)"
   ]
  },
  {
   "cell_type": "markdown",
   "id": "af7aee38-6570-480c-aab0-9eff59a09f1e",
   "metadata": {},
   "source": [
    "#### 10. How many artifacts have no media files"
   ]
  },
  {
   "cell_type": "code",
   "execution_count": null,
   "id": "e17e9795-98b3-43bf-9f0a-83b284db6d4a",
   "metadata": {},
   "outputs": [],
   "source": [
    "cursor.execute(\"\"\"\n",
    "    SELECT COUNT(*)\n",
    "    FROM artifact_media\n",
    "    WHERE mediacount = 0 OR mediacount IS NULL;\n",
    "\"\"\")\n",
    "no_media_count = cursor.fetchone()[0]\n",
    "print(f\"Artifacts with no media files: {no_media_count}\")\n"
   ]
  },
  {
   "cell_type": "markdown",
   "id": "30d2b6bf-74f9-49cb-ba40-e44e1dca8748",
   "metadata": {},
   "source": [
    "### artifact_colors Table"
   ]
  },
  {
   "cell_type": "markdown",
   "id": "98098d97-9130-4fe7-8866-94a5cdea3cff",
   "metadata": {},
   "source": [
    "#### 11. What are all the distinct hues used in the dataset"
   ]
  },
  {
   "cell_type": "code",
   "execution_count": null,
   "id": "2e97c63f-9023-4685-a96f-6e24ac54ef7f",
   "metadata": {},
   "outputs": [],
   "source": [
    "cursor.execute(\"\"\"\n",
    "    SELECT DISTINCT hue\n",
    "    FROM artifact_colors\n",
    "    WHERE hue IS NOT NULL\n",
    "    ORDER BY hue;\n",
    "\"\"\")\n",
    "results = cursor.fetchall()\n",
    "print(\"Distinct hues:\")\n",
    "for row in results:\n",
    "    print(row[0])\n"
   ]
  },
  {
   "cell_type": "markdown",
   "id": "b5e6e717-1053-46b0-ac59-182b32c126ba",
   "metadata": {},
   "source": [
    "#### 12. What are the top 5 most used colors by frequency"
   ]
  },
  {
   "cell_type": "code",
   "execution_count": null,
   "id": "429de0c1-d165-495a-a54e-c732c5a286e9",
   "metadata": {},
   "outputs": [],
   "source": [
    "cursor.execute(\"\"\"\n",
    "SELECT color, COUNT(*) AS frequency\n",
    "FROM artifact_colors\n",
    "WHERE color IS NOT NULL\n",
    "GROUP BY color\n",
    "ORDER BY frequency DESC\n",
    "LIMIT 5;\n",
    "\"\"\")\n",
    "results = cursor.fetchall()\n",
    "print(\"Top 5 most used colors:\")\n",
    "for color, freq in results:\n",
    "    print(f\"{color}: {freq}\")\n"
   ]
  },
  {
   "cell_type": "markdown",
   "id": "f9f4a55b-ea47-4b50-bc97-9038b99bd680",
   "metadata": {},
   "source": [
    "#### 13. What is the average coverage percentage for each hue"
   ]
  },
  {
   "cell_type": "code",
   "execution_count": null,
   "id": "9d7db7f1-8ed7-4410-8312-6e3fcd3e95b2",
   "metadata": {},
   "outputs": [],
   "source": [
    "cursor.execute(\"\"\"\n",
    "    SELECT hue, AVG(percent) AS avg_percent\n",
    "    FROM artifact_colors\n",
    "    WHERE percent IS NOT NULL\n",
    "    GROUP BY hue\n",
    "    ORDER BY avg_percent DESC;\n",
    "\"\"\")\n",
    "results = cursor.fetchall()\n",
    "print(\"Average coverage percentage per hue:\")\n",
    "for hue, avg in results:\n",
    "    print(f\"{hue}: {avg:.2f}%\")\n"
   ]
  },
  {
   "cell_type": "markdown",
   "id": "3f5ea641-1aef-4576-a45b-763ee6484d42",
   "metadata": {},
   "source": [
    "#### 14. List all colors used for a given artifact ID"
   ]
  },
  {
   "cell_type": "code",
   "execution_count": null,
   "id": "1061802e-f769-47de-affe-c15cd0ddb125",
   "metadata": {},
   "outputs": [
    {
     "name": "stdout",
     "output_type": "stream",
     "text": [
      "Colors used for artifact ID 148258:\n",
      "#e1e1fa | Hue: Violet | Percent: 0.32876190476190476 | Spectrum: #8c5fa8 | CSS3: #e6e6fa\n",
      "#c8c8e1 | Hue: Blue | Percent: 0.30214285714285716 | Spectrum: #8761aa | CSS3: #d8bfd8\n",
      "#fafafa | Hue: White | Percent: 0.2904761904761905 | Spectrum: #955ba5 | CSS3: #fffafa\n",
      "#323232 | Hue: Grey | Percent: 0.04395238095238095 | Spectrum: #2eb45d | CSS3: #2f4f4f\n",
      "#4b4b4b | Hue: Grey | Percent: 0.013095238095238096 | Spectrum: #3db657 | CSS3: #2f4f4f\n",
      "#c8967d | Hue: Grey | Percent: 0.006333333333333333 | Spectrum: #e66c64 | CSS3: #bc8f8f\n",
      "#646464 | Hue: Grey | Percent: 0.004047619047619047 | Spectrum: #7866ad | CSS3: #696969\n",
      "#c87d64 | Hue: Orange | Percent: 0.0036666666666666666 | Spectrum: #e66c64 | CSS3: #cd5c5c\n",
      "#e1af96 | Hue: Orange | Percent: 0.003 | Spectrum: #e9715f | CSS3: #deb887\n",
      "#afafaf | Hue: Grey | Percent: 0.0013333333333333333 | Spectrum: #8c5fa8 | CSS3: #a9a9a9\n"
     ]
    }
   ],
   "source": [
    "artifact_id = int(input(\"Enter Artifact ID: \"))\n",
    "cursor.execute(\"\"\"\n",
    "SELECT color, hue, percent, spectrum, css3\n",
    "FROM artifact_colors\n",
    "WHERE objectid = %s;\n",
    "\"\"\", (artifact_id,))\n",
    "results = cursor.fetchall()\n",
    "print(f\"Colors used for artifact ID {artifact_id}:\")\n",
    "for color, hue, percent, spectrum, css3 in results:\n",
    "    print(f\"{color} | Hue: {hue} | Percent: {percent} | Spectrum: {spectrum} | CSS3: {css3}\")"
   ]
  },
  {
   "cell_type": "markdown",
   "id": "2df5ea1a-66f8-4f26-a5ec-d36222a00b30",
   "metadata": {},
   "source": [
    "#### 15. What is the total number of color entries in the dataset"
   ]
  },
  {
   "cell_type": "code",
   "execution_count": null,
   "id": "15b32714-5356-479e-a0f1-a1ebe224315f",
   "metadata": {},
   "outputs": [],
   "source": [
    "cursor.execute(\"\"\"\n",
    "SELECT COUNT(*) \n",
    "FROM artifact_colors;\n",
    "\"\"\")\n",
    "total_colors = cursor.fetchone()[0]\n",
    "print(f\"Total number of color entries in the dataset: {total_colors}\")"
   ]
  },
  {
   "cell_type": "markdown",
   "id": "be35419e-0aa9-47ba-8fee-92c7d01a5ab9",
   "metadata": {},
   "source": [
    "### Join-Based Queries"
   ]
  },
  {
   "cell_type": "markdown",
   "id": "f17afba2-fecc-4e0a-b11f-83ad53fa3015",
   "metadata": {},
   "source": [
    "#### 16. List artifact titles and hues for all artifacts belonging to the Byzantine culture."
   ]
  },
  {
   "cell_type": "code",
   "execution_count": null,
   "id": "867c163b-23c2-4d4c-b971-6da0e5960f53",
   "metadata": {},
   "outputs": [],
   "source": [
    "cursor.execute(\"\"\"\n",
    "SELECT m.title, c.hue\n",
    "FROM artifact_metadata m\n",
    "JOIN artifact_colors c ON m.id = c.objectid\n",
    "WHERE m.culture = 'Byzantine';\n",
    "\"\"\")\n",
    "results = cursor.fetchall()\n",
    "print(\"Artifacts from Byzantine culture with their hues:\")\n",
    "for row in results:\n",
    "    print(f\"Title: {row[0]}, Hue: {row[1]}\")\n"
   ]
  },
  {
   "cell_type": "markdown",
   "id": "13d034f1-65d8-44a7-8bf2-c75a5005b081",
   "metadata": {},
   "source": [
    "#### 17. List each artifact title with its associated hues. "
   ]
  },
  {
   "cell_type": "code",
   "execution_count": null,
   "id": "0d235b54-f752-43a2-bf02-7bfa49e78ae6",
   "metadata": {},
   "outputs": [],
   "source": [
    "cursor.execute(\"\"\"\n",
    "SELECT md.title, GROUP_CONCAT(ac.hue SEPARATOR ', ') AS hues\n",
    "FROM artifact_metadata md\n",
    "JOIN artifact_colors ac ON md.id = ac.objectid\n",
    "GROUP BY md.title;\n",
    "\"\"\")\n",
    "results = cursor.fetchall()\n",
    "print(\"Artifact titles with their associated hues:\")\n",
    "for title, hues in results:\n",
    "    print(f\"{title}: {hues}\")\n"
   ]
  },
  {
   "cell_type": "markdown",
   "id": "96a43444-69d5-4075-a9fa-c52cf6c2b134",
   "metadata": {},
   "source": [
    "#### 18. Get artifact titles, cultures, and media ranks where the period is not null."
   ]
  },
  {
   "cell_type": "code",
   "execution_count": null,
   "id": "858b2a3a-d92c-4667-8fee-c67d66062f52",
   "metadata": {},
   "outputs": [],
   "source": [
    "cursor.execute(\"\"\"\n",
    "SELECT md.title, md.culture, am.rank_value\n",
    "FROM artifact_metadata md\n",
    "JOIN artifact_media am ON md.id = am.objectid\n",
    "WHERE md.period IS NOT NULL;\n",
    "\"\"\")\n",
    "results = cursor.fetchall()\n",
    "for title, culture, rank in results:\n",
    "    print(f\"{title} | Culture: {culture} | Rank: {rank}\")\n",
    "    "
   ]
  },
  {
   "cell_type": "markdown",
   "id": "3c4d5c63-072e-4985-80e0-2b571d6f39a8",
   "metadata": {},
   "source": [
    "#### 19. Find artifact titles ranked in the top 10 that include the color hue \"Grey\"."
   ]
  },
  {
   "cell_type": "code",
   "execution_count": null,
   "id": "89a8225e-fec7-4d4f-82e2-143ce248b337",
   "metadata": {
    "scrolled": true
   },
   "outputs": [],
   "source": [
    "cursor.execute(\"\"\"\n",
    "SELECT md.title, am.rank_value, ac.hue\n",
    "FROM artifact_metadata md\n",
    "JOIN artifact_media am ON md.id = am.objectid\n",
    "JOIN artifact_colors ac ON md.id = ac.objectid\n",
    "WHERE ac.hue = 'Grey'\n",
    "ORDER BY am.rank_value ASC\n",
    "LIMIT 10;\n",
    "\"\"\")\n",
    "results = cursor.fetchall()\n",
    "print(\"Top 10 ranked artifacts with hue 'Grey':\")\n",
    "for title, rank, hue in results:\n",
    "    print(f\"{title} | Rank: {rank} | Hue: {hue}\")\n"
   ]
  },
  {
   "cell_type": "markdown",
   "id": "5f6093fa-bcd4-457b-97bf-5f8bd0c12ab4",
   "metadata": {},
   "source": [
    "#### 20. How many artifacts exist per classification, and what is the average media count for each?"
   ]
  },
  {
   "cell_type": "code",
   "execution_count": null,
   "id": "6a7eb3c4-0a35-4cff-8f3b-0f399ba187b7",
   "metadata": {},
   "outputs": [],
   "source": [
    "cursor.execute(\"\"\"\n",
    "SELECT md.classification, \n",
    "       COUNT(*) AS artifact_count, \n",
    "       AVG(am.mediacount) AS avg_media_count\n",
    "FROM artifact_metadata md\n",
    "JOIN artifact_media am ON md.id = am.objectid\n",
    "GROUP BY md.classification\n",
    "ORDER BY artifact_count DESC;\n",
    "\"\"\")\n",
    "results = cursor.fetchall()\n",
    "print(\"Artifacts per classification and average media count:\")\n",
    "for classification, count, avg_media in results:\n",
    "    print(f\"{classification}: Count = {count}, Average Media Count = {avg_media:.2f}\")\n"
   ]
  },
  {
   "cell_type": "markdown",
   "id": "d8c62753-9d54-4964-99ca-b4aeac270691",
   "metadata": {},
   "source": [
    "### Extra SQL queries"
   ]
  },
  {
   "cell_type": "markdown",
   "id": "853bf74d-8246-4dcf-b4a6-09407f2c958b",
   "metadata": {},
   "source": [
    "#### 21. Find all colors for one artifact"
   ]
  },
  {
   "cell_type": "code",
   "execution_count": null,
   "id": "416b33d5-b7f8-4e7c-9c9f-758995239aff",
   "metadata": {
    "scrolled": true
   },
   "outputs": [],
   "source": [
    "cursor.execute(\"\"\"\n",
    "    SELECT m.title, c.color, c.percent\n",
    "    FROM artifact_metadata m\n",
    "    JOIN artifact_colors c ON m.id = c.objectid\n",
    "    ORDER BY c.percent DESC\n",
    "    LIMIT 20;\n",
    "\"\"\")\n",
    "print(\"Top colors for artifacts:\")\n",
    "for row in cursor.fetchall():\n",
    "    print(row)"
   ]
  },
  {
   "cell_type": "markdown",
   "id": "78df74e8-01c5-4c49-8dda-321f39c8fe1e",
   "metadata": {},
   "source": [
    "#### 22. Average colors per classification"
   ]
  },
  {
   "cell_type": "code",
   "execution_count": null,
   "id": "df062f7d-d983-4d89-9f0b-e063db228eb2",
   "metadata": {},
   "outputs": [],
   "source": [
    "cursor.execute(\"\"\"\n",
    "    SELECT m.classification, AVG(me.colorcount) AS avg_colors\n",
    "    FROM artifact_metadata m\n",
    "    JOIN artifact_media me ON m.id = me.objectid\n",
    "    GROUP BY m.classification\n",
    "    ORDER BY avg_colors DESC\n",
    "    LIMIT 10;\n",
    "\"\"\")\n",
    "print(\"Average colors per classification:\")\n",
    "for row in cursor.fetchall():\n",
    "    print(row)"
   ]
  },
  {
   "cell_type": "markdown",
   "id": "cd05f89d-700a-41bb-9522-f668c49177ea",
   "metadata": {},
   "source": [
    "#### 23. List all artifact titles that have \"coin\" in them"
   ]
  },
  {
   "cell_type": "code",
   "execution_count": null,
   "id": "012d2453-c653-4ebc-abf5-df350c1ec6e1",
   "metadata": {
    "scrolled": true
   },
   "outputs": [],
   "source": [
    "cursor.execute(\"\"\"\n",
    "    SELECT title\n",
    "    FROM artifact_metadata\n",
    "    WHERE title LIKE '%coin%';\n",
    "\"\"\")\n",
    "results = cursor.fetchall()\n",
    "print(\"Artifacts with 'coin' in the title:\")\n",
    "for row in results:\n",
    "    print(row[0])"
   ]
  },
  {
   "cell_type": "markdown",
   "id": "9665fc0c-0938-4d5b-be14-d579ed2069ed",
   "metadata": {},
   "source": [
    "#### 24. Count how many artifacts belong to each accession year"
   ]
  },
  {
   "cell_type": "code",
   "execution_count": null,
   "id": "1385ef2e-a06b-4cdd-9e30-ff7dfe4be46b",
   "metadata": {
    "scrolled": true
   },
   "outputs": [],
   "source": [
    "cursor.execute(\"\"\"\n",
    "    SELECT accessionyear, COUNT(*) AS count\n",
    "    FROM artifact_metadata\n",
    "    WHERE accessionyear IS NOT NULL\n",
    "    GROUP BY accessionyear\n",
    "    ORDER BY accessionyear;\n",
    "\"\"\")\n",
    "results = cursor.fetchall()\n",
    "print(\"Number of artifacts by accession year:\")\n",
    "for row in results:\n",
    "    print(row)"
   ]
  },
  {
   "cell_type": "markdown",
   "id": "6b6ff911-6959-4ac8-9218-286307952139",
   "metadata": {},
   "source": [
    "#### 25. List all unique mediums used"
   ]
  },
  {
   "cell_type": "code",
   "execution_count": null,
   "id": "2ead480f-2b20-4d16-a8f0-ad7d369e58e8",
   "metadata": {},
   "outputs": [],
   "source": [
    "cursor.execute(\"\"\"\n",
    "    SELECT DISTINCT medium\n",
    "    FROM artifact_metadata\n",
    "    WHERE medium IS NOT NULL\n",
    "    ORDER BY medium;\n",
    "\"\"\")\n",
    "results = cursor.fetchall()\n",
    "print(\"Unique mediums:\")\n",
    "for row in results:\n",
    "    print(row[0])"
   ]
  }
 ],
 "metadata": {
  "kernelspec": {
   "display_name": "Python 3 (ipykernel)",
   "language": "python",
   "name": "python3"
  },
  "language_info": {
   "codemirror_mode": {
    "name": "ipython",
    "version": 3
   },
   "file_extension": ".py",
   "mimetype": "text/x-python",
   "name": "python",
   "nbconvert_exporter": "python",
   "pygments_lexer": "ipython3",
   "version": "3.13.5"
  }
 },
 "nbformat": 4,
 "nbformat_minor": 5
}
